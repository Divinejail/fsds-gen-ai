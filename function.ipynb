{
 "cells": [
  {
   "cell_type": "code",
   "execution_count": 1,
   "id": "091376f0",
   "metadata": {},
   "outputs": [],
   "source": [
    "def greet():\n",
    "    print('hello')\n",
    "    print('Good  Morning Team')"
   ]
  },
  {
   "cell_type": "code",
   "execution_count": 2,
   "id": "7304be09",
   "metadata": {},
   "outputs": [
    {
     "name": "stdout",
     "output_type": "stream",
     "text": [
      "hrllo\n",
      "Good Morning Team\n"
     ]
    }
   ],
   "source": [
    "def greet():\n",
    "    print('hrllo')\n",
    "    print('Good Morning Team')\n",
    "\n",
    "greet()"
   ]
  },
  {
   "cell_type": "code",
   "execution_count": 3,
   "id": "f79279bc",
   "metadata": {},
   "outputs": [
    {
     "name": "stdout",
     "output_type": "stream",
     "text": [
      "print\n",
      "Good Morning Team \n",
      "hello\n",
      "Good Morning team\n"
     ]
    }
   ],
   "source": [
    "def greet():\n",
    "    print('print')\n",
    "    print('Good Morning Team ')\n",
    "greet()\n",
    "\n",
    "def greet():\n",
    "    print('hello')\n",
    "    print('Good Morning team')\n",
    "greet()"
   ]
  },
  {
   "cell_type": "code",
   "execution_count": 4,
   "id": "fe8470f7",
   "metadata": {},
   "outputs": [
    {
     "name": "stdout",
     "output_type": "stream",
     "text": [
      "hello\n",
      "Good Morning team\n",
      "\n",
      "hello\n",
      "Good Morning Team\n"
     ]
    }
   ],
   "source": [
    "def grert():\n",
    "    print('hello')\n",
    "    print('Good Morning Team')\n",
    "greet()\n",
    "    \n",
    "print()\n",
    "\n",
    "def greet():\n",
    "    print('hello')\n",
    "    print('Good Morning Team')\n",
    "greet()"
   ]
  },
  {
   "cell_type": "code",
   "execution_count": 5,
   "id": "9ae1ece5",
   "metadata": {},
   "outputs": [
    {
     "name": "stdout",
     "output_type": "stream",
     "text": [
      "hello\n",
      "Good Mroning Team\n",
      "\n",
      "hello\n",
      "Good Morning Team\n",
      "\n",
      "hello\n",
      "Good Morning Team\n"
     ]
    }
   ],
   "source": [
    "def greet():\n",
    "    print('hello')\n",
    "    print('Good Mroning Team')\n",
    "greet()\n",
    "\n",
    "print()\n",
    "\n",
    "def greet():\n",
    "    print('hello')\n",
    "    print('Good Morning Team')\n",
    "greet()\n",
    "\n",
    "print()\n",
    "\n",
    "def greet():\n",
    "    print('hello')\n",
    "    print('Good Morning Team')\n",
    "greet()"
   ]
  },
  {
   "cell_type": "code",
   "execution_count": 6,
   "id": "7bfc1af6",
   "metadata": {},
   "outputs": [
    {
     "name": "stdout",
     "output_type": "stream",
     "text": [
      "hello\n",
      "Good Morning Team\n",
      "**********\n",
      "hello\n",
      "Good Morning Team\n",
      "**********\n",
      "hello\n",
      "Good Morning Team\n"
     ]
    }
   ],
   "source": [
    "def geet():\n",
    "    print('hello')\n",
    "    print('Good Moring Team')\n",
    "    \n",
    "greet()\n",
    "print('**********')\n",
    "greet()\n",
    "print('**********')\n",
    "greet() # Function calling with out argument"
   ]
  },
  {
   "cell_type": "code",
   "execution_count": 7,
   "id": "c0d4aa4b",
   "metadata": {},
   "outputs": [],
   "source": [
    "# function without argument"
   ]
  },
  {
   "cell_type": "code",
   "execution_count": 8,
   "id": "caf19d87",
   "metadata": {},
   "outputs": [
    {
     "name": "stdout",
     "output_type": "stream",
     "text": [
      "Hello\n",
      "Good Morning Team\n"
     ]
    }
   ],
   "source": [
    "def greet():\n",
    "    print('Hello')\n",
    "    print('Good Morning Team')\n",
    "greet()"
   ]
  },
  {
   "cell_type": "code",
   "execution_count": 9,
   "id": "595e829f",
   "metadata": {},
   "outputs": [],
   "source": [
    "# function with argument"
   ]
  },
  {
   "cell_type": "code",
   "execution_count": 11,
   "id": "c5e0522d",
   "metadata": {},
   "outputs": [
    {
     "name": "stdout",
     "output_type": "stream",
     "text": [
      "5\n"
     ]
    }
   ],
   "source": [
    "def add(x,y):\n",
    "    c =  x+y\n",
    "    print(c)\n",
    "add(2, 3)"
   ]
  },
  {
   "cell_type": "code",
   "execution_count": null,
   "id": "cd5706f8",
   "metadata": {},
   "outputs": [],
   "source": [
    "# function with return"
   ]
  },
  {
   "cell_type": "code",
   "execution_count": 13,
   "id": "e16689f5",
   "metadata": {},
   "outputs": [
    {
     "data": {
      "text/plain": [
       "9"
      ]
     },
     "execution_count": 13,
     "metadata": {},
     "output_type": "execute_result"
    }
   ],
   "source": [
    "def add(x,y):\n",
    "    c = x+y\n",
    "    return c\n",
    "add(4,5)"
   ]
  },
  {
   "cell_type": "code",
   "execution_count": 14,
   "id": "32243084",
   "metadata": {},
   "outputs": [
    {
     "data": {
      "text/plain": [
       "198"
      ]
     },
     "execution_count": 14,
     "metadata": {},
     "output_type": "execute_result"
    }
   ],
   "source": [
    "def add(x,y,z):\n",
    "    c = x+y+z\n",
    "    return c\n",
    "add(55,66,77)"
   ]
  },
  {
   "cell_type": "code",
   "execution_count": 15,
   "id": "77a7dede",
   "metadata": {},
   "outputs": [
    {
     "data": {
      "text/plain": [
       "286"
      ]
     },
     "execution_count": 15,
     "metadata": {},
     "output_type": "execute_result"
    }
   ],
   "source": [
    "def add(x,y,z,n):\n",
    "    c = x+y+z+n\n",
    "    return c\n",
    "add(55,66,77,88)"
   ]
  },
  {
   "cell_type": "code",
   "execution_count": 16,
   "id": "c9c9571f",
   "metadata": {},
   "outputs": [
    {
     "name": "stdout",
     "output_type": "stream",
     "text": [
      "hello\n",
      "Good Morning Team\n"
     ]
    },
    {
     "data": {
      "text/plain": [
       "9"
      ]
     },
     "execution_count": 16,
     "metadata": {},
     "output_type": "execute_result"
    }
   ],
   "source": [
    "def greet():\n",
    "    print('hello')\n",
    "    print('Good Morning Team')\n",
    "greet()\n",
    "\n",
    "def add(x,y):\n",
    "    c = x+y\n",
    "    return c\n",
    "add(4,5)"
   ]
  },
  {
   "cell_type": "code",
   "execution_count": 19,
   "id": "453db48a",
   "metadata": {},
   "outputs": [
    {
     "name": "stdout",
     "output_type": "stream",
     "text": [
      "hello\n",
      "Good Morning Team\n",
      "9\n",
      "-1\n"
     ]
    }
   ],
   "source": [
    "def greet():\n",
    "    print ('hello')\n",
    "    print('Good Morning Team')\n",
    "    \n",
    "def  add(x,y):\n",
    "    z = x+y\n",
    "    return z\n",
    "add(4,5)\n",
    "\n",
    "def sub(x,y):\n",
    "    c = x-y\n",
    "    return c\n",
    "sub(4,5)\n",
    "\n",
    "greet()\n",
    "print(add(4,5))\n",
    "print(sub(4,5))\n"
   ]
  },
  {
   "cell_type": "code",
   "execution_count": 20,
   "id": "cfedf7e8",
   "metadata": {},
   "outputs": [
    {
     "name": "stdout",
     "output_type": "stream",
     "text": [
      "(121, -11, 3630)\n",
      "<class 'tuple'>\n"
     ]
    }
   ],
   "source": [
    "def add_sub_mult(x,y):\n",
    "    d = x+y\n",
    "    c = x-y\n",
    "    a = x*y\n",
    "    return d,c,a\n",
    "result = add_sub_mult(55,66)\n",
    "print(result)\n",
    "print(type(result))"
   ]
  },
  {
   "cell_type": "code",
   "execution_count": 21,
   "id": "02dc1d80",
   "metadata": {},
   "outputs": [
    {
     "name": "stdout",
     "output_type": "stream",
     "text": [
      "121\n",
      "-11\n",
      "<class 'int'>\n"
     ]
    }
   ],
   "source": [
    "def add_sub(x,y):\n",
    "    c = x+y\n",
    "    d = x-y\n",
    "    return c, d\n",
    "result, result1 = add_sub(55,66)\n",
    "\n",
    "print(result)\n",
    "print(result1)\n",
    "print(type(result))"
   ]
  },
  {
   "cell_type": "code",
   "execution_count": 24,
   "id": "76366c2b",
   "metadata": {},
   "outputs": [
    {
     "data": {
      "text/plain": [
       "3630"
      ]
     },
     "execution_count": 24,
     "metadata": {},
     "output_type": "execute_result"
    }
   ],
   "source": [
    "def add_sum_mul(x,y):\n",
    "    c = x+y\n",
    "    d = x-y\n",
    "    f = x*y\n",
    "    return c,d,f\n",
    "\n",
    "add,sub,mul = add_sum_mul(55,66)\n",
    "\n",
    "add\n",
    "sum\n",
    "mul"
   ]
  },
  {
   "cell_type": "markdown",
   "id": "20668e1d",
   "metadata": {},
   "source": [
    "# Update"
   ]
  },
  {
   "cell_type": "code",
   "execution_count": 25,
   "id": "16cc9d4a",
   "metadata": {},
   "outputs": [
    {
     "name": "stdout",
     "output_type": "stream",
     "text": [
      "8\n"
     ]
    }
   ],
   "source": [
    "def update():\n",
    "    x = 8\n",
    "    print(x)\n",
    "update()"
   ]
  },
  {
   "cell_type": "code",
   "execution_count": 28,
   "id": "fc54f2d8",
   "metadata": {},
   "outputs": [
    {
     "ename": "TypeError",
     "evalue": "update() takes 0 positional arguments but 1 was given",
     "output_type": "error",
     "traceback": [
      "\u001b[1;31m---------------------------------------------------------------------------\u001b[0m",
      "\u001b[1;31mTypeError\u001b[0m                                 Traceback (most recent call last)",
      "Cell \u001b[1;32mIn[28], line 4\u001b[0m\n\u001b[0;32m      2\u001b[0m     x \u001b[38;5;241m=\u001b[39m \u001b[38;5;241m8\u001b[39m\n\u001b[0;32m      3\u001b[0m     \u001b[38;5;28mprint\u001b[39m(x)\n\u001b[1;32m----> 4\u001b[0m update(\u001b[38;5;241m9\u001b[39m)\n",
      "\u001b[1;31mTypeError\u001b[0m: update() takes 0 positional arguments but 1 was given"
     ]
    }
   ],
   "source": [
    "def update():   # update function takr the value from the user\n",
    "    x = 8\n",
    "    print(x)\n",
    "update(9)"
   ]
  },
  {
   "cell_type": "code",
   "execution_count": 29,
   "id": "5c6df7cc",
   "metadata": {},
   "outputs": [
    {
     "data": {
      "text/plain": [
       "10"
      ]
     },
     "execution_count": 29,
     "metadata": {},
     "output_type": "execute_result"
    }
   ],
   "source": [
    "def update(x):\n",
    "    x =10\n",
    "    return x \n",
    "update(100)"
   ]
  },
  {
   "cell_type": "code",
   "execution_count": 30,
   "id": "3e6a2caf",
   "metadata": {},
   "outputs": [
    {
     "name": "stdout",
     "output_type": "stream",
     "text": [
      "15\n"
     ]
    }
   ],
   "source": [
    "def update(x):\n",
    "    x = 8\n",
    "    return x \n",
    "\n",
    "a = 15\n",
    "update(a)\n",
    "print(a)"
   ]
  },
  {
   "cell_type": "code",
   "execution_count": 31,
   "id": "674bdb9d",
   "metadata": {},
   "outputs": [
    {
     "name": "stdout",
     "output_type": "stream",
     "text": [
      "nit\n",
      "22\n"
     ]
    }
   ],
   "source": [
    "def person(name,age):\n",
    "    print(name)\n",
    "    print(age)\n",
    "person('nit', 22)"
   ]
  },
  {
   "cell_type": "code",
   "execution_count": 32,
   "id": "610397dc",
   "metadata": {},
   "outputs": [
    {
     "name": "stdout",
     "output_type": "stream",
     "text": [
      "nit\n",
      "21\n"
     ]
    }
   ],
   "source": [
    "def person(name , age):\n",
    "    print(name)\n",
    "    print(age-1)\n",
    "\n",
    "person(age = 22, name = 'nit')"
   ]
  },
  {
   "cell_type": "code",
   "execution_count": 33,
   "id": "74bc5647",
   "metadata": {},
   "outputs": [
    {
     "name": "stdout",
     "output_type": "stream",
     "text": [
      "aditya\n",
      "21\n",
      "23\n"
     ]
    }
   ],
   "source": [
    "def person (name,age, new_age):\n",
    "    print(name)\n",
    "    print(age-1)\n",
    "    print(new_age)\n",
    "person(age = 22 , name= 'aditya', new_age = 23)"
   ]
  },
  {
   "cell_type": "markdown",
   "id": "665d1efe",
   "metadata": {},
   "source": [
    "# default argument"
   ]
  },
  {
   "cell_type": "code",
   "execution_count": 34,
   "id": "8ef058ac",
   "metadata": {},
   "outputs": [
    {
     "name": "stdout",
     "output_type": "stream",
     "text": [
      "nit\n",
      "18\n"
     ]
    }
   ],
   "source": [
    "def person(name, age=18):\n",
    "    print(name)\n",
    "    print(age)\n",
    "    \n",
    "person('nit')"
   ]
  },
  {
   "cell_type": "code",
   "execution_count": 35,
   "id": "d024004b",
   "metadata": {},
   "outputs": [
    {
     "name": "stdout",
     "output_type": "stream",
     "text": [
      "nit\n",
      "40\n"
     ]
    }
   ],
   "source": [
    "def person(name,age=18):\n",
    "    print(name)\n",
    "    print(age)\n",
    "\n",
    "person('nit', 40)"
   ]
  },
  {
   "cell_type": "markdown",
   "id": "7303548d",
   "metadata": {},
   "source": [
    "# variable length argument"
   ]
  },
  {
   "cell_type": "code",
   "execution_count": 36,
   "id": "2fcd3aee",
   "metadata": {},
   "outputs": [
    {
     "ename": "TypeError",
     "evalue": "person() takes 2 positional arguments but 7 were given",
     "output_type": "error",
     "traceback": [
      "\u001b[1;31m---------------------------------------------------------------------------\u001b[0m",
      "\u001b[1;31mTypeError\u001b[0m                                 Traceback (most recent call last)",
      "Cell \u001b[1;32mIn[36], line 5\u001b[0m\n\u001b[0;32m      2\u001b[0m     \u001b[38;5;28mprint\u001b[39m(name)\n\u001b[0;32m      3\u001b[0m     \u001b[38;5;28mprint\u001b[39m(age)\n\u001b[1;32m----> 5\u001b[0m person(\u001b[38;5;124m'\u001b[39m\u001b[38;5;124mnit\u001b[39m\u001b[38;5;124m'\u001b[39m,\u001b[38;5;241m40\u001b[39m, \u001b[38;5;241m30\u001b[39m,\u001b[38;5;241m50\u001b[39m,\u001b[38;5;241m60\u001b[39m,\u001b[38;5;241m70\u001b[39m,\u001b[38;5;241m90\u001b[39m)\n",
      "\u001b[1;31mTypeError\u001b[0m: person() takes 2 positional arguments but 7 were given"
     ]
    }
   ],
   "source": [
    "def person(name, age):\n",
    "    print(name)\n",
    "    print(age)\n",
    "\n",
    "person('nit',40, 30,50,60,70,90)"
   ]
  },
  {
   "cell_type": "code",
   "execution_count": 37,
   "id": "d0fc870b",
   "metadata": {},
   "outputs": [
    {
     "ename": "TypeError",
     "evalue": "sum() takes 2 positional arguments but 4 were given",
     "output_type": "error",
     "traceback": [
      "\u001b[1;31m---------------------------------------------------------------------------\u001b[0m",
      "\u001b[1;31mTypeError\u001b[0m                                 Traceback (most recent call last)",
      "Cell \u001b[1;32mIn[37], line 5\u001b[0m\n\u001b[0;32m      2\u001b[0m     c \u001b[38;5;241m=\u001b[39m a\u001b[38;5;241m+\u001b[39mb\n\u001b[0;32m      3\u001b[0m     \u001b[38;5;28mprint\u001b[39m(c)\n\u001b[1;32m----> 5\u001b[0m \u001b[38;5;28msum\u001b[39m(\u001b[38;5;241m5\u001b[39m,\u001b[38;5;241m6\u001b[39m,\u001b[38;5;241m7\u001b[39m,\u001b[38;5;241m8\u001b[39m)\n",
      "\u001b[1;31mTypeError\u001b[0m: sum() takes 2 positional arguments but 4 were given"
     ]
    }
   ],
   "source": [
    "def sum(a,b):\n",
    "    c = a+b\n",
    "    print(c)\n",
    "\n",
    "sum(5,6,7,8)"
   ]
  },
  {
   "cell_type": "code",
   "execution_count": 38,
   "id": "08efbde3",
   "metadata": {},
   "outputs": [
    {
     "ename": "TypeError",
     "evalue": "unsupported operand type(s) for +: 'int' and 'tuple'",
     "output_type": "error",
     "traceback": [
      "\u001b[1;31m---------------------------------------------------------------------------\u001b[0m",
      "\u001b[1;31mTypeError\u001b[0m                                 Traceback (most recent call last)",
      "Cell \u001b[1;32mIn[38], line 5\u001b[0m\n\u001b[0;32m      2\u001b[0m     c \u001b[38;5;241m=\u001b[39m a\u001b[38;5;241m+\u001b[39mb\n\u001b[0;32m      3\u001b[0m     \u001b[38;5;28mprint\u001b[39m(c)\n\u001b[1;32m----> 5\u001b[0m \u001b[38;5;28msum\u001b[39m(\u001b[38;5;241m5\u001b[39m,\u001b[38;5;241m6\u001b[39m,\u001b[38;5;241m7\u001b[39m,\u001b[38;5;241m8\u001b[39m)\n",
      "Cell \u001b[1;32mIn[38], line 2\u001b[0m, in \u001b[0;36msum\u001b[1;34m(a, *b)\u001b[0m\n\u001b[0;32m      1\u001b[0m \u001b[38;5;28;01mdef\u001b[39;00m\u001b[38;5;250m \u001b[39m\u001b[38;5;21msum\u001b[39m(a, \u001b[38;5;241m*\u001b[39mb):\n\u001b[1;32m----> 2\u001b[0m     c \u001b[38;5;241m=\u001b[39m a\u001b[38;5;241m+\u001b[39mb\n\u001b[0;32m      3\u001b[0m     \u001b[38;5;28mprint\u001b[39m(c)\n",
      "\u001b[1;31mTypeError\u001b[0m: unsupported operand type(s) for +: 'int' and 'tuple'"
     ]
    }
   ],
   "source": [
    "def sum(a, *b):\n",
    "    c = a+b\n",
    "    print(c)\n",
    "    \n",
    "sum(5,6,7,8)"
   ]
  },
  {
   "cell_type": "code",
   "execution_count": 39,
   "id": "bb4bc670",
   "metadata": {},
   "outputs": [
    {
     "name": "stdout",
     "output_type": "stream",
     "text": [
      "<class 'int'>\n",
      "<class 'tuple'>\n"
     ]
    }
   ],
   "source": [
    "def sum(a, *b):  # 1st arugument is fixed ut for 2nd argument\n",
    "    # c = a+b\n",
    "    print(type(a))\n",
    "    print(type(b))\n",
    "    \n",
    "sum(5,6,7,8)"
   ]
  },
  {
   "cell_type": "code",
   "execution_count": 41,
   "id": "78726881",
   "metadata": {},
   "outputs": [
    {
     "name": "stdout",
     "output_type": "stream",
     "text": [
      "26\n"
     ]
    }
   ],
   "source": [
    "def sum(a, *b):  # 1st argument is fixed & we fetch each value from the tuple & we can add them.\n",
    "    c = a\n",
    "    for i in b:\n",
    "        c = c + i\n",
    "    print(c)\n",
    "\n",
    "sum(5,6,7,8)"
   ]
  },
  {
   "cell_type": "code",
   "execution_count": 43,
   "id": "95698021",
   "metadata": {},
   "outputs": [
    {
     "name": "stdout",
     "output_type": "stream",
     "text": [
      "55\n"
     ]
    }
   ],
   "source": [
    "def sum(a, *b): # 1st argument is fixed & we fetch each value from the tuple & we can add them.\n",
    "    c = a\n",
    "    for i  in b:\n",
    "        c = c +i\n",
    "    print(c)\n",
    "\n",
    "sum(5,6,7,8,9,20)"
   ]
  },
  {
   "cell_type": "code",
   "execution_count": 44,
   "id": "88bb5ecb",
   "metadata": {},
   "outputs": [
    {
     "name": "stdout",
     "output_type": "stream",
     "text": [
      "26\n"
     ]
    }
   ],
   "source": [
    "def sum(a, *b):\n",
    "    c = a\n",
    "    for i in b:\n",
    "        c = c + i\n",
    "    print(c)\n",
    "    \n",
    "sum(5,6,7,8)"
   ]
  },
  {
   "cell_type": "markdown",
   "id": "3de92edd",
   "metadata": {},
   "source": [
    "# kwargs"
   ]
  },
  {
   "cell_type": "code",
   "execution_count": 46,
   "id": "5fd95c80",
   "metadata": {},
   "outputs": [],
   "source": [
    "def person():\n",
    "    person('Alex',36,'JOHN',97890)"
   ]
  },
  {
   "cell_type": "code",
   "execution_count": 47,
   "id": "c0cdc53b",
   "metadata": {},
   "outputs": [
    {
     "name": "stdout",
     "output_type": "stream",
     "text": [
      "Alex\n",
      "(36, 'JOHN', 87808)\n"
     ]
    }
   ],
   "source": [
    "def person(name, *data):\n",
    "    print(name)\n",
    "    print(data)\n",
    "    \n",
    "person('Alex', 36,  'JOHN', 87808)"
   ]
  },
  {
   "cell_type": "code",
   "execution_count": 52,
   "id": "a25b49eb",
   "metadata": {},
   "outputs": [
    {
     "ename": "TypeError",
     "evalue": "person() got an unexpected keyword argument 'age'",
     "output_type": "error",
     "traceback": [
      "\u001b[1;31m---------------------------------------------------------------------------\u001b[0m",
      "\u001b[1;31mTypeError\u001b[0m                                 Traceback (most recent call last)",
      "Cell \u001b[1;32mIn[52], line 5\u001b[0m\n\u001b[0;32m      2\u001b[0m     \u001b[38;5;28mprint\u001b[39m(\u001b[38;5;124m'\u001b[39m\u001b[38;5;124mname\u001b[39m\u001b[38;5;124m'\u001b[39m)\n\u001b[0;32m      3\u001b[0m     \u001b[38;5;28mprint\u001b[39m(data)\n\u001b[1;32m----> 5\u001b[0m person(\u001b[38;5;124m'\u001b[39m\u001b[38;5;124mALEX\u001b[39m\u001b[38;5;124m'\u001b[39m, age \u001b[38;5;241m=\u001b[39m \u001b[38;5;241m36\u001b[39m, home_place \u001b[38;5;241m=\u001b[39m\u001b[38;5;124m'\u001b[39m\u001b[38;5;124msouthcity\u001b[39m\u001b[38;5;124m'\u001b[39m, mob \u001b[38;5;241m=\u001b[39m\u001b[38;5;241m987767\u001b[39m)\n",
      "\u001b[1;31mTypeError\u001b[0m: person() got an unexpected keyword argument 'age'"
     ]
    }
   ],
   "source": [
    "def person(name,*data):\n",
    "    print('name')\n",
    "    print(data)\n",
    "\n",
    "person('ALEX', age = 36, home_place ='southcity', mob =987767)"
   ]
  },
  {
   "cell_type": "code",
   "execution_count": 53,
   "id": "6c1d6a6e",
   "metadata": {},
   "outputs": [
    {
     "name": "stdout",
     "output_type": "stream",
     "text": [
      "name\n",
      "{'age': 36, 'home_place': 'southcity', 'mob': 987767}\n"
     ]
    }
   ],
   "source": [
    "def person(name, **data):\n",
    "    print('name')\n",
    "    print(data)\n",
    "\n",
    "person('ALEX', age = 36, home_place ='southcity', mob =987767)"
   ]
  },
  {
   "cell_type": "code",
   "execution_count": 54,
   "id": "35e6465c",
   "metadata": {},
   "outputs": [
    {
     "name": "stdout",
     "output_type": "stream",
     "text": [
      "name\n",
      "{'age': 36, 'home_place': 'southcity', 'mob': 987767, 'salary': 50000, 'married': 'yes'}\n"
     ]
    }
   ],
   "source": [
    "def person(name, **data):\n",
    "    print('name')\n",
    "    print(data)\n",
    "\n",
    "person('ALEX', age = 36, home_place = 'southcity', mob = 987767, salary = 50000, married = 'yes')"
   ]
  },
  {
   "cell_type": "markdown",
   "id": "e0aa078f",
   "metadata": {},
   "source": [
    "# functional argument we are completed\n",
    "\n"
   ]
  },
  {
   "cell_type": "markdown",
   "id": "e4359345",
   "metadata": {},
   "source": [
    "# global variable  & local variable"
   ]
  },
  {
   "cell_type": "code",
   "execution_count": 55,
   "id": "b39320d9",
   "metadata": {},
   "outputs": [],
   "source": [
    "a = 10 #-- global varible\n",
    "\n",
    "def something():\n",
    "    b = 15 # local variable"
   ]
  },
  {
   "cell_type": "code",
   "execution_count": 56,
   "id": "93bfcc40",
   "metadata": {},
   "outputs": [],
   "source": [
    "a = 10 #-- global variable \n",
    "\n",
    "def something():\n",
    "    b = 15  # local variable\n",
    "    \n",
    "    print('in function',b)\n",
    "    print('out function',a)"
   ]
  },
  {
   "cell_type": "code",
   "execution_count": 57,
   "id": "b5beb573",
   "metadata": {},
   "outputs": [
    {
     "name": "stdout",
     "output_type": "stream",
     "text": [
      "out function 10\n"
     ]
    }
   ],
   "source": [
    "a = 10 \n",
    "def something():\n",
    "    b = 15\n",
    "    print('in function', b)\n",
    "    \n",
    "print('out function',a)"
   ]
  },
  {
   "cell_type": "code",
   "execution_count": 58,
   "id": "9e8108d3",
   "metadata": {},
   "outputs": [
    {
     "name": "stdout",
     "output_type": "stream",
     "text": [
      "in function 10\n",
      "out function 10\n"
     ]
    }
   ],
   "source": [
    "a = 10\n",
    "\n",
    "def something():\n",
    "    a =15\n",
    "    \n",
    "print('in function', a)\n",
    "\n",
    "print('out function',a)"
   ]
  },
  {
   "cell_type": "code",
   "execution_count": 59,
   "id": "ccf8b6f9",
   "metadata": {},
   "outputs": [
    {
     "name": "stdout",
     "output_type": "stream",
     "text": [
      "in function 15\n",
      "out function 10\n"
     ]
    }
   ],
   "source": [
    "a =10\n",
    " \n",
    "def something():\n",
    "    b =15\n",
    "    print('in function', b)  # local variable\n",
    "    \n",
    "something()\n",
    "\n",
    "print('out function', a) # global variable"
   ]
  },
  {
   "cell_type": "code",
   "execution_count": 60,
   "id": "782867d6",
   "metadata": {},
   "outputs": [
    {
     "name": "stdout",
     "output_type": "stream",
     "text": [
      "in function 10\n",
      "out function 10\n"
     ]
    }
   ],
   "source": [
    "a = 10\n",
    "def something():\n",
    "    # if we remove this variable then can default it consider as global variable\n",
    "    print('in function',a)\n",
    "something()\n",
    "\n",
    "print('out function',a)"
   ]
  },
  {
   "cell_type": "code",
   "execution_count": 61,
   "id": "917965bc",
   "metadata": {},
   "outputs": [
    {
     "name": "stdout",
     "output_type": "stream",
     "text": [
      "in function 15\n",
      "global variable 10\n",
      "out  function 10\n"
     ]
    }
   ],
   "source": [
    "a = 10\n",
    "def something():\n",
    "    b= 15 # 15 is converted to local whhen user assignedd global a\n",
    "    print('in function',b)\n",
    "    print('global variable', a)\n",
    "    \n",
    "something()\n",
    "\n",
    "print('out  function', a)"
   ]
  },
  {
   "cell_type": "code",
   "execution_count": 63,
   "id": "f3c2799f",
   "metadata": {},
   "outputs": [
    {
     "name": "stdout",
     "output_type": "stream",
     "text": [
      "in function 15\n",
      "out function 15\n"
     ]
    }
   ],
   "source": [
    "a = 20\n",
    "def something():\n",
    "    global a \n",
    "    a = 15 \n",
    "    print('in function', a)\n",
    "    \n",
    "    a =15\n",
    "\n",
    "something()\n",
    "print('out function',a)"
   ]
  },
  {
   "cell_type": "code",
   "execution_count": 64,
   "id": "b831d506",
   "metadata": {},
   "outputs": [
    {
     "name": "stdout",
     "output_type": "stream",
     "text": [
      "15\n"
     ]
    }
   ],
   "source": [
    "x = 10 # Global Variable\n",
    "\n",
    "def update_x():\n",
    "    global x # Declare that we are using the global variable x\n",
    "    x += 5 # Modify the global variable\n",
    "    \n",
    "update_x()\n",
    "print(x)  # output: 15"
   ]
  },
  {
   "cell_type": "code",
   "execution_count": 65,
   "id": "98a03a5d",
   "metadata": {},
   "outputs": [
    {
     "name": "stdout",
     "output_type": "stream",
     "text": [
      "15\n"
     ]
    }
   ],
   "source": [
    "x = 10 # Global Varibale\n",
    "def upadate_x():\n",
    "    globals()['x'] += 5 # Access and modify the global variable using the dictionary\n",
    "    \n",
    "update_x()\n",
    "print(x)"
   ]
  },
  {
   "cell_type": "code",
   "execution_count": null,
   "id": "056c9ec9",
   "metadata": {},
   "outputs": [],
   "source": []
  }
 ],
 "metadata": {
  "kernelspec": {
   "display_name": "base",
   "language": "python",
   "name": "python3"
  },
  "language_info": {
   "codemirror_mode": {
    "name": "ipython",
    "version": 3
   },
   "file_extension": ".py",
   "mimetype": "text/x-python",
   "name": "python",
   "nbconvert_exporter": "python",
   "pygments_lexer": "ipython3",
   "version": "3.13.5"
  }
 },
 "nbformat": 4,
 "nbformat_minor": 5
}
